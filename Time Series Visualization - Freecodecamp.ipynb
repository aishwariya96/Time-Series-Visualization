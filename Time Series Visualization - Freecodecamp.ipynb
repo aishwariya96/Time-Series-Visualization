{
 "cells": [
  {
   "cell_type": "code",
   "execution_count": 101,
   "metadata": {},
   "outputs": [],
   "source": [
    "import pandas as pd\n",
    "import numpy as np\n",
    "import matplotlib.pyplot as plt\n",
    "import seaborn as sns"
   ]
  },
  {
   "cell_type": "markdown",
   "metadata": {},
   "source": [
    "#### Import data (Make sure to parse dates. Consider setting index column to 'date'.)"
   ]
  },
  {
   "cell_type": "code",
   "execution_count": 86,
   "metadata": {},
   "outputs": [],
   "source": [
    "df = pd.read_csv('fcc-forum-pageviews.csv')"
   ]
  },
  {
   "cell_type": "code",
   "execution_count": 87,
   "metadata": {},
   "outputs": [],
   "source": [
    "df.set_index('date', drop=True, inplace=True)\n",
    "df.index = [pd.Timestamp(d) for d in df.index]"
   ]
  },
  {
   "cell_type": "code",
   "execution_count": 88,
   "metadata": {},
   "outputs": [
    {
     "data": {
      "text/html": [
       "<div>\n",
       "<style scoped>\n",
       "    .dataframe tbody tr th:only-of-type {\n",
       "        vertical-align: middle;\n",
       "    }\n",
       "\n",
       "    .dataframe tbody tr th {\n",
       "        vertical-align: top;\n",
       "    }\n",
       "\n",
       "    .dataframe thead th {\n",
       "        text-align: right;\n",
       "    }\n",
       "</style>\n",
       "<table border=\"1\" class=\"dataframe\">\n",
       "  <thead>\n",
       "    <tr style=\"text-align: right;\">\n",
       "      <th></th>\n",
       "      <th>value</th>\n",
       "    </tr>\n",
       "  </thead>\n",
       "  <tbody>\n",
       "    <tr>\n",
       "      <td>2016-05-09</td>\n",
       "      <td>1201</td>\n",
       "    </tr>\n",
       "    <tr>\n",
       "      <td>2016-05-10</td>\n",
       "      <td>2329</td>\n",
       "    </tr>\n",
       "    <tr>\n",
       "      <td>2016-05-11</td>\n",
       "      <td>1716</td>\n",
       "    </tr>\n",
       "    <tr>\n",
       "      <td>2016-05-12</td>\n",
       "      <td>10539</td>\n",
       "    </tr>\n",
       "    <tr>\n",
       "      <td>2016-05-13</td>\n",
       "      <td>6933</td>\n",
       "    </tr>\n",
       "  </tbody>\n",
       "</table>\n",
       "</div>"
      ],
      "text/plain": [
       "            value\n",
       "2016-05-09   1201\n",
       "2016-05-10   2329\n",
       "2016-05-11   1716\n",
       "2016-05-12  10539\n",
       "2016-05-13   6933"
      ]
     },
     "execution_count": 88,
     "metadata": {},
     "output_type": "execute_result"
    }
   ],
   "source": [
    "df.head()"
   ]
  },
  {
   "cell_type": "code",
   "execution_count": 89,
   "metadata": {},
   "outputs": [
    {
     "data": {
      "text/plain": [
       "(1304, 1)"
      ]
     },
     "execution_count": 89,
     "metadata": {},
     "output_type": "execute_result"
    }
   ],
   "source": [
    "df.shape"
   ]
  },
  {
   "cell_type": "markdown",
   "metadata": {},
   "source": [
    "#### Clean the data by filtering out days when the page views were in the top 2.5% of the dataset or bottom 2.5% of the dataset."
   ]
  },
  {
   "cell_type": "code",
   "execution_count": 91,
   "metadata": {},
   "outputs": [],
   "source": [
    "df = df[(df['value']>=df['value'].quantile(0.025)) & (df['value']<=df['value'].quantile(0.975))]"
   ]
  },
  {
   "cell_type": "code",
   "execution_count": 92,
   "metadata": {},
   "outputs": [
    {
     "data": {
      "text/html": [
       "<div>\n",
       "<style scoped>\n",
       "    .dataframe tbody tr th:only-of-type {\n",
       "        vertical-align: middle;\n",
       "    }\n",
       "\n",
       "    .dataframe tbody tr th {\n",
       "        vertical-align: top;\n",
       "    }\n",
       "\n",
       "    .dataframe thead th {\n",
       "        text-align: right;\n",
       "    }\n",
       "</style>\n",
       "<table border=\"1\" class=\"dataframe\">\n",
       "  <thead>\n",
       "    <tr style=\"text-align: right;\">\n",
       "      <th></th>\n",
       "      <th>value</th>\n",
       "    </tr>\n",
       "  </thead>\n",
       "  <tbody>\n",
       "    <tr>\n",
       "      <td>2016-05-19</td>\n",
       "      <td>19736</td>\n",
       "    </tr>\n",
       "    <tr>\n",
       "      <td>2016-05-26</td>\n",
       "      <td>18060</td>\n",
       "    </tr>\n",
       "    <tr>\n",
       "      <td>2016-05-27</td>\n",
       "      <td>19997</td>\n",
       "    </tr>\n",
       "    <tr>\n",
       "      <td>2016-05-28</td>\n",
       "      <td>19044</td>\n",
       "    </tr>\n",
       "    <tr>\n",
       "      <td>2016-05-29</td>\n",
       "      <td>20325</td>\n",
       "    </tr>\n",
       "    <tr>\n",
       "      <td>...</td>\n",
       "      <td>...</td>\n",
       "    </tr>\n",
       "    <tr>\n",
       "      <td>2019-11-24</td>\n",
       "      <td>138875</td>\n",
       "    </tr>\n",
       "    <tr>\n",
       "      <td>2019-11-29</td>\n",
       "      <td>171584</td>\n",
       "    </tr>\n",
       "    <tr>\n",
       "      <td>2019-11-30</td>\n",
       "      <td>141161</td>\n",
       "    </tr>\n",
       "    <tr>\n",
       "      <td>2019-12-01</td>\n",
       "      <td>142918</td>\n",
       "    </tr>\n",
       "    <tr>\n",
       "      <td>2019-12-03</td>\n",
       "      <td>158549</td>\n",
       "    </tr>\n",
       "  </tbody>\n",
       "</table>\n",
       "<p>1238 rows × 1 columns</p>\n",
       "</div>"
      ],
      "text/plain": [
       "             value\n",
       "2016-05-19   19736\n",
       "2016-05-26   18060\n",
       "2016-05-27   19997\n",
       "2016-05-28   19044\n",
       "2016-05-29   20325\n",
       "...            ...\n",
       "2019-11-24  138875\n",
       "2019-11-29  171584\n",
       "2019-11-30  141161\n",
       "2019-12-01  142918\n",
       "2019-12-03  158549\n",
       "\n",
       "[1238 rows x 1 columns]"
      ]
     },
     "execution_count": 92,
     "metadata": {},
     "output_type": "execute_result"
    }
   ],
   "source": [
    "df"
   ]
  },
  {
   "cell_type": "markdown",
   "metadata": {},
   "source": [
    "#### Create a `draw_line_plot` function that uses Matplotlib to draw a line chart similar to \"examples/Figure_1.png\". The title should be \"Daily freeCodeCamp Forum Page Views 5/2016-12/2019\". The label on the x axis should be \"Date\" and the label on the y axis should be \"Page Views\"."
   ]
  },
  {
   "cell_type": "code",
   "execution_count": 96,
   "metadata": {},
   "outputs": [],
   "source": [
    "def draw_line_plot():\n",
    "    fig,axs = plt.subplots(1,1)\n",
    "    fig.set_figwidth(15)\n",
    "    fig.set_figheight(5)\n",
    "    plt.title('Daily freeCodeCamp Forum Page Views 5/2016-12/2019')\n",
    "    plt.xlabel('Date')\n",
    "    plt.ylabel('Page Views')\n",
    "    plt.plot(df.index, df['value'],color='r')\n",
    "    fig.savefig('line_plot.png')\n",
    "    #return fig"
   ]
  },
  {
   "cell_type": "code",
   "execution_count": 97,
   "metadata": {},
   "outputs": [
    {
     "data": {
      "image/png": "[encoded data removed]",
      "text/plain": [
       "<Figure size 1080x360 with 1 Axes>"
      ]
     },
     "metadata": {
      "needs_background": "light"
     },
     "output_type": "display_data"
    }
   ],
   "source": [
    "draw_line_plot()"
   ]
  },
  {
   "cell_type": "markdown",
   "metadata": {},
   "source": [
    "#### Create a `draw_bar_plot` function that draws a bar chart similar to \"examples/Figure_2.png\". It should show average daily page views for each month grouped by year. The legend should show month labels and have a title of \"Months\". On the chart, the label on the x axis should be \"Years\" and the label on the y axis should be \"Average Page Views\"."
   ]
  },
  {
   "cell_type": "code",
   "execution_count": 98,
   "metadata": {},
   "outputs": [],
   "source": [
    "def draw_bar_plot():\n",
    "    df_bar = df.copy()\n",
    "    month_names = ['January','February','March','April','May','June','July','August','September','October','November','December']\n",
    "    labels = [2016,2017,2018,2019]\n",
    "    months = np.zeros([12,4])\n",
    "    \n",
    "    for i in range(12):\n",
    "        for j, year in enumerate(labels):\n",
    "            t = df[df.index.year == year]\n",
    "            months[i][j] = t[t.index.month == i].value.mean()\n",
    "            \n",
    "    x = np.arange(len(labels))\n",
    "    width = 0.7\n",
    "    fig,ax = plt.subplots()\n",
    "    fig.set_figwidth(10)\n",
    "    fig.set_figheight(8)\n",
    "    for i,month in enumerate(months):\n",
    "        ax.bar(x-(width * (12-i)/12) , months[i], width/12, label = month_names[i])\n",
    "    ax.set_xlabel(\"Average Page Views\")\n",
    "    ax.set_ylabel(\"Year\")\n",
    "    ax.set_xticks(x)\n",
    "    ax.set_xticklabels(labels)\n",
    "    ax.legend(title='Months')\n",
    "    \n",
    "    fig.savefig('bar_plot.png')\n",
    "    #return fig \n",
    "    "
   ]
  },
  {
   "cell_type": "code",
   "execution_count": 99,
   "metadata": {},
   "outputs": [
    {
     "data": {
      "image/png": "[encoded data removed]",
      "text/plain": [
       "<Figure size 720x576 with 1 Axes>"
      ]
     },
     "metadata": {
      "needs_background": "light"
     },
     "output_type": "display_data"
    }
   ],
   "source": [
    "draw_bar_plot()"
   ]
  },
  {
   "cell_type": "markdown",
   "metadata": {},
   "source": [
    "###### something I was just trying out"
   ]
  },
  {
   "cell_type": "code",
   "execution_count": 74,
   "metadata": {},
   "outputs": [
    {
     "data": {
      "text/plain": [
       "2017    365\n",
       "2018    362\n",
       "2019    306\n",
       "2016    205\n",
       "dtype: int64"
      ]
     },
     "execution_count": 74,
     "metadata": {},
     "output_type": "execute_result"
    }
   ],
   "source": [
    "df.index.year.value_counts()"
   ]
  },
  {
   "cell_type": "code",
   "execution_count": 75,
   "metadata": {},
   "outputs": [],
   "source": [
    "df['year'] = df.index.year"
   ]
  },
  {
   "cell_type": "code",
   "execution_count": 76,
   "metadata": {},
   "outputs": [
    {
     "data": {
      "text/plain": [
       "2016-05-19    2016\n",
       "2016-05-26    2016\n",
       "2016-05-27    2016\n",
       "2016-05-28    2016\n",
       "2016-05-29    2016\n",
       "              ... \n",
       "2019-11-24    2019\n",
       "2019-11-29    2019\n",
       "2019-11-30    2019\n",
       "2019-12-01    2019\n",
       "2019-12-03    2019\n",
       "Name: year, Length: 1238, dtype: int64"
      ]
     },
     "execution_count": 76,
     "metadata": {},
     "output_type": "execute_result"
    }
   ],
   "source": [
    "df['year']"
   ]
  },
  {
   "cell_type": "code",
   "execution_count": 77,
   "metadata": {},
   "outputs": [],
   "source": [
    "df['month'] = df.index.month"
   ]
  },
  {
   "cell_type": "code",
   "execution_count": 78,
   "metadata": {},
   "outputs": [
    {
     "data": {
      "text/plain": [
       "2016-05-19     5\n",
       "2016-05-26     5\n",
       "2016-05-27     5\n",
       "2016-05-28     5\n",
       "2016-05-29     5\n",
       "              ..\n",
       "2019-11-24    11\n",
       "2019-11-29    11\n",
       "2019-11-30    11\n",
       "2019-12-01    12\n",
       "2019-12-03    12\n",
       "Name: month, Length: 1238, dtype: int64"
      ]
     },
     "execution_count": 78,
     "metadata": {},
     "output_type": "execute_result"
    }
   ],
   "source": [
    "df['month']"
   ]
  },
  {
   "cell_type": "code",
   "execution_count": 84,
   "metadata": {},
   "outputs": [
    {
     "data": {
      "text/html": [
       "<div>\n",
       "<style scoped>\n",
       "    .dataframe tbody tr th:only-of-type {\n",
       "        vertical-align: middle;\n",
       "    }\n",
       "\n",
       "    .dataframe tbody tr th {\n",
       "        vertical-align: top;\n",
       "    }\n",
       "\n",
       "    .dataframe thead th {\n",
       "        text-align: right;\n",
       "    }\n",
       "</style>\n",
       "<table border=\"1\" class=\"dataframe\">\n",
       "  <thead>\n",
       "    <tr style=\"text-align: right;\">\n",
       "      <th></th>\n",
       "      <th>month</th>\n",
       "      <th>year</th>\n",
       "      <th>value</th>\n",
       "    </tr>\n",
       "  </thead>\n",
       "  <tbody>\n",
       "    <tr>\n",
       "      <td>0</td>\n",
       "      <td>1</td>\n",
       "      <td>2017</td>\n",
       "      <td>32785.161290</td>\n",
       "    </tr>\n",
       "    <tr>\n",
       "      <td>1</td>\n",
       "      <td>1</td>\n",
       "      <td>2018</td>\n",
       "      <td>58580.096774</td>\n",
       "    </tr>\n",
       "    <tr>\n",
       "      <td>2</td>\n",
       "      <td>1</td>\n",
       "      <td>2019</td>\n",
       "      <td>102056.516129</td>\n",
       "    </tr>\n",
       "    <tr>\n",
       "      <td>3</td>\n",
       "      <td>2</td>\n",
       "      <td>2017</td>\n",
       "      <td>31113.071429</td>\n",
       "    </tr>\n",
       "    <tr>\n",
       "      <td>4</td>\n",
       "      <td>2</td>\n",
       "      <td>2018</td>\n",
       "      <td>65679.000000</td>\n",
       "    </tr>\n",
       "    <tr>\n",
       "      <td>5</td>\n",
       "      <td>2</td>\n",
       "      <td>2019</td>\n",
       "      <td>105968.357143</td>\n",
       "    </tr>\n",
       "    <tr>\n",
       "      <td>6</td>\n",
       "      <td>3</td>\n",
       "      <td>2017</td>\n",
       "      <td>29369.096774</td>\n",
       "    </tr>\n",
       "    <tr>\n",
       "      <td>7</td>\n",
       "      <td>3</td>\n",
       "      <td>2018</td>\n",
       "      <td>62693.774194</td>\n",
       "    </tr>\n",
       "    <tr>\n",
       "      <td>8</td>\n",
       "      <td>3</td>\n",
       "      <td>2019</td>\n",
       "      <td>91214.483871</td>\n",
       "    </tr>\n",
       "    <tr>\n",
       "      <td>9</td>\n",
       "      <td>4</td>\n",
       "      <td>2017</td>\n",
       "      <td>30878.733333</td>\n",
       "    </tr>\n",
       "    <tr>\n",
       "      <td>10</td>\n",
       "      <td>4</td>\n",
       "      <td>2018</td>\n",
       "      <td>62350.833333</td>\n",
       "    </tr>\n",
       "    <tr>\n",
       "      <td>11</td>\n",
       "      <td>4</td>\n",
       "      <td>2019</td>\n",
       "      <td>89368.433333</td>\n",
       "    </tr>\n",
       "    <tr>\n",
       "      <td>12</td>\n",
       "      <td>5</td>\n",
       "      <td>2016</td>\n",
       "      <td>19432.400000</td>\n",
       "    </tr>\n",
       "    <tr>\n",
       "      <td>13</td>\n",
       "      <td>5</td>\n",
       "      <td>2017</td>\n",
       "      <td>34244.290323</td>\n",
       "    </tr>\n",
       "    <tr>\n",
       "      <td>14</td>\n",
       "      <td>5</td>\n",
       "      <td>2018</td>\n",
       "      <td>56562.870968</td>\n",
       "    </tr>\n",
       "    <tr>\n",
       "      <td>15</td>\n",
       "      <td>5</td>\n",
       "      <td>2019</td>\n",
       "      <td>91439.903226</td>\n",
       "    </tr>\n",
       "    <tr>\n",
       "      <td>16</td>\n",
       "      <td>6</td>\n",
       "      <td>2016</td>\n",
       "      <td>21875.105263</td>\n",
       "    </tr>\n",
       "    <tr>\n",
       "      <td>17</td>\n",
       "      <td>6</td>\n",
       "      <td>2017</td>\n",
       "      <td>43577.500000</td>\n",
       "    </tr>\n",
       "    <tr>\n",
       "      <td>18</td>\n",
       "      <td>6</td>\n",
       "      <td>2018</td>\n",
       "      <td>70117.000000</td>\n",
       "    </tr>\n",
       "    <tr>\n",
       "      <td>19</td>\n",
       "      <td>6</td>\n",
       "      <td>2019</td>\n",
       "      <td>90435.642857</td>\n",
       "    </tr>\n",
       "    <tr>\n",
       "      <td>20</td>\n",
       "      <td>7</td>\n",
       "      <td>2016</td>\n",
       "      <td>24109.678571</td>\n",
       "    </tr>\n",
       "    <tr>\n",
       "      <td>21</td>\n",
       "      <td>7</td>\n",
       "      <td>2017</td>\n",
       "      <td>65806.838710</td>\n",
       "    </tr>\n",
       "    <tr>\n",
       "      <td>22</td>\n",
       "      <td>7</td>\n",
       "      <td>2018</td>\n",
       "      <td>63591.064516</td>\n",
       "    </tr>\n",
       "    <tr>\n",
       "      <td>23</td>\n",
       "      <td>7</td>\n",
       "      <td>2019</td>\n",
       "      <td>97236.566667</td>\n",
       "    </tr>\n",
       "    <tr>\n",
       "      <td>24</td>\n",
       "      <td>8</td>\n",
       "      <td>2016</td>\n",
       "      <td>31049.193548</td>\n",
       "    </tr>\n",
       "    <tr>\n",
       "      <td>25</td>\n",
       "      <td>8</td>\n",
       "      <td>2017</td>\n",
       "      <td>47712.451613</td>\n",
       "    </tr>\n",
       "    <tr>\n",
       "      <td>26</td>\n",
       "      <td>8</td>\n",
       "      <td>2018</td>\n",
       "      <td>62831.612903</td>\n",
       "    </tr>\n",
       "    <tr>\n",
       "      <td>27</td>\n",
       "      <td>8</td>\n",
       "      <td>2019</td>\n",
       "      <td>102717.310345</td>\n",
       "    </tr>\n",
       "    <tr>\n",
       "      <td>28</td>\n",
       "      <td>9</td>\n",
       "      <td>2016</td>\n",
       "      <td>41476.866667</td>\n",
       "    </tr>\n",
       "    <tr>\n",
       "      <td>29</td>\n",
       "      <td>9</td>\n",
       "      <td>2017</td>\n",
       "      <td>47376.800000</td>\n",
       "    </tr>\n",
       "    <tr>\n",
       "      <td>30</td>\n",
       "      <td>9</td>\n",
       "      <td>2018</td>\n",
       "      <td>65941.733333</td>\n",
       "    </tr>\n",
       "    <tr>\n",
       "      <td>31</td>\n",
       "      <td>9</td>\n",
       "      <td>2019</td>\n",
       "      <td>97268.833333</td>\n",
       "    </tr>\n",
       "    <tr>\n",
       "      <td>32</td>\n",
       "      <td>10</td>\n",
       "      <td>2016</td>\n",
       "      <td>27398.322581</td>\n",
       "    </tr>\n",
       "    <tr>\n",
       "      <td>33</td>\n",
       "      <td>10</td>\n",
       "      <td>2017</td>\n",
       "      <td>47438.709677</td>\n",
       "    </tr>\n",
       "    <tr>\n",
       "      <td>34</td>\n",
       "      <td>10</td>\n",
       "      <td>2018</td>\n",
       "      <td>111378.142857</td>\n",
       "    </tr>\n",
       "    <tr>\n",
       "      <td>35</td>\n",
       "      <td>10</td>\n",
       "      <td>2019</td>\n",
       "      <td>122802.272727</td>\n",
       "    </tr>\n",
       "    <tr>\n",
       "      <td>36</td>\n",
       "      <td>11</td>\n",
       "      <td>2016</td>\n",
       "      <td>40448.633333</td>\n",
       "    </tr>\n",
       "    <tr>\n",
       "      <td>37</td>\n",
       "      <td>11</td>\n",
       "      <td>2017</td>\n",
       "      <td>57701.566667</td>\n",
       "    </tr>\n",
       "    <tr>\n",
       "      <td>38</td>\n",
       "      <td>11</td>\n",
       "      <td>2018</td>\n",
       "      <td>78688.333333</td>\n",
       "    </tr>\n",
       "    <tr>\n",
       "      <td>39</td>\n",
       "      <td>11</td>\n",
       "      <td>2019</td>\n",
       "      <td>143166.428571</td>\n",
       "    </tr>\n",
       "    <tr>\n",
       "      <td>40</td>\n",
       "      <td>12</td>\n",
       "      <td>2016</td>\n",
       "      <td>27832.419355</td>\n",
       "    </tr>\n",
       "    <tr>\n",
       "      <td>41</td>\n",
       "      <td>12</td>\n",
       "      <td>2017</td>\n",
       "      <td>48420.580645</td>\n",
       "    </tr>\n",
       "    <tr>\n",
       "      <td>42</td>\n",
       "      <td>12</td>\n",
       "      <td>2018</td>\n",
       "      <td>80047.483871</td>\n",
       "    </tr>\n",
       "    <tr>\n",
       "      <td>43</td>\n",
       "      <td>12</td>\n",
       "      <td>2019</td>\n",
       "      <td>150733.500000</td>\n",
       "    </tr>\n",
       "  </tbody>\n",
       "</table>\n",
       "</div>"
      ],
      "text/plain": [
       "    month  year          value\n",
       "0       1  2017   32785.161290\n",
       "1       1  2018   58580.096774\n",
       "2       1  2019  102056.516129\n",
       "3       2  2017   31113.071429\n",
       "4       2  2018   65679.000000\n",
       "5       2  2019  105968.357143\n",
       "6       3  2017   29369.096774\n",
       "7       3  2018   62693.774194\n",
       "8       3  2019   91214.483871\n",
       "9       4  2017   30878.733333\n",
       "10      4  2018   62350.833333\n",
       "11      4  2019   89368.433333\n",
       "12      5  2016   19432.400000\n",
       "13      5  2017   34244.290323\n",
       "14      5  2018   56562.870968\n",
       "15      5  2019   91439.903226\n",
       "16      6  2016   21875.105263\n",
       "17      6  2017   43577.500000\n",
       "18      6  2018   70117.000000\n",
       "19      6  2019   90435.642857\n",
       "20      7  2016   24109.678571\n",
       "21      7  2017   65806.838710\n",
       "22      7  2018   63591.064516\n",
       "23      7  2019   97236.566667\n",
       "24      8  2016   31049.193548\n",
       "25      8  2017   47712.451613\n",
       "26      8  2018   62831.612903\n",
       "27      8  2019  102717.310345\n",
       "28      9  2016   41476.866667\n",
       "29      9  2017   47376.800000\n",
       "30      9  2018   65941.733333\n",
       "31      9  2019   97268.833333\n",
       "32     10  2016   27398.322581\n",
       "33     10  2017   47438.709677\n",
       "34     10  2018  111378.142857\n",
       "35     10  2019  122802.272727\n",
       "36     11  2016   40448.633333\n",
       "37     11  2017   57701.566667\n",
       "38     11  2018   78688.333333\n",
       "39     11  2019  143166.428571\n",
       "40     12  2016   27832.419355\n",
       "41     12  2017   48420.580645\n",
       "42     12  2018   80047.483871\n",
       "43     12  2019  150733.500000"
      ]
     },
     "execution_count": 84,
     "metadata": {},
     "output_type": "execute_result"
    }
   ],
   "source": [
    "df.groupby(['month','year'], as_index=False).agg({\"value\": \"mean\"})"
   ]
  },
  {
   "cell_type": "markdown",
   "metadata": {},
   "source": [
    "##### Create a `draw_box_plot` function that uses Searborn to draw two adjacent box plots similar to \"examples/Figure_3.png\". These box plots should show how the values are distributed within a given year or month and how it compares over time. The title of the first chart should be \"Year-wise Box Plot (Trend)\" and the title of the second chart should be \"Month-wise Box Plot (Seasonality)\". Make sure the month labels on bottom start at \"Jan\" and the x and x axis are labeled correctly."
   ]
  },
  {
   "cell_type": "code",
   "execution_count": 109,
   "metadata": {},
   "outputs": [],
   "source": [
    "def draw_box_plot():\n",
    "    df_box = df.copy()\n",
    "    df_box['date'] = df_box.index\n",
    "    df_box.reset_index( inplace = True)\n",
    "    df_box['year'] = [d.year for d in df_box.date]\n",
    "    df_box['month'] = [d.strftime('%b') for d in df_box.date]\n",
    "    \n",
    "    df_box['smonth'] = [d.strftime('%m') for d in df_box.date]\n",
    "    df_box = df_box.sort_values(by='smonth')\n",
    "    \n",
    "    fig,(ax1, ax2) = plt.subplots(1,2)\n",
    "    fig.set_figwidth(10)\n",
    "    fig.set_figheight(15)\n",
    "    \n",
    "    ax1.set_title(\"Year wise box plot (Trend)\")\n",
    "    ax2.set_title(\"Month-wise Box Plot (Seasonality)\")\n",
    "\n",
    "    ax1 = sns.boxplot(x=df_box.year, y=df_box.value, ax=ax1)\n",
    "    ax1.set_xlabel('Year')\n",
    "    ax1.set_ylabel('Page Views')\n",
    "\n",
    "    ax2 = sns.boxplot(x=\"month\", y=\"value\", data=df_box, ax=ax2)\n",
    "    ax2.set_xlabel('Month')\n",
    "    ax2.set_ylabel('Page Views')\n",
    "\n",
    "    fig.savefig('box_plot.png')\n",
    "    #return fig"
   ]
  },
  {
   "cell_type": "code",
   "execution_count": 110,
   "metadata": {},
   "outputs": [
    {
     "data": {
      "image/png": "[encoded data removed]",
      "text/plain": [
       "<Figure size 720x1080 with 2 Axes>"
      ]
     },
     "metadata": {
      "needs_background": "light"
     },
     "output_type": "display_data"
    }
   ],
   "source": [
    "draw_box_plot()"
   ]
  },
  {
   "cell_type": "code",
   "execution_count": null,
   "metadata": {},
   "outputs": [],
   "source": []
  }
 ],
 "metadata": {
  "kernelspec": {
   "display_name": "Python 3",
   "language": "python",
   "name": "python3"
  },
  "language_info": {
   "codemirror_mode": {
    "name": "ipython",
    "version": 3
   },
   "file_extension": ".py",
   "mimetype": "text/x-python",
   "name": "python",
   "nbconvert_exporter": "python",
   "pygments_lexer": "ipython3",
   "version": "3.7.4"
  }
 },
 "nbformat": 4,
 "nbformat_minor": 2
}
